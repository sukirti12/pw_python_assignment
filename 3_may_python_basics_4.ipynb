{
  "nbformat": 4,
  "nbformat_minor": 0,
  "metadata": {
    "colab": {
      "provenance": []
    },
    "kernelspec": {
      "name": "python3",
      "display_name": "Python 3"
    },
    "language_info": {
      "name": "python"
    }
  },
  "cells": [
    {
      "cell_type": "markdown",
      "source": [
        "PYTHON BASIC"
      ],
      "metadata": {
        "id": "Y28jmipdK-Z6"
      }
    },
    {
      "cell_type": "markdown",
      "source": [
        "question no. 1\n"
      ],
      "metadata": {
        "id": "HuJ1U97auCap"
      }
    },
    {
      "cell_type": "code",
      "execution_count": null,
      "metadata": {
        "colab": {
          "base_uri": "https://localhost:8080/"
        },
        "id": "R_FnaDcVt3vo",
        "outputId": "8ffe4afe-18c1-4373-ff8a-3dcbeb7d5fb9"
      },
      "outputs": [
        {
          "output_type": "stream",
          "name": "stdout",
          "text": [
            "Before swapping:\n",
            "x = 5\n",
            "y = 10\n",
            "\n",
            "After swapping:\n",
            "x = 10\n",
            "y = 5\n"
          ]
        }
      ],
      "source": [
        "x = 5\n",
        "y = 10\n",
        "\n",
        "print(\"Before swapping:\")\n",
        "print(\"x =\", x)\n",
        "print(\"y =\", y)\n",
        "\n",
        "# Swap values without using a temporary variable\n",
        "x, y = y, x\n",
        "\n",
        "print(\"\\nAfter swapping:\")\n",
        "print(\"x =\", x)\n",
        "print(\"y =\", y)\n"
      ]
    },
    {
      "cell_type": "markdown",
      "source": [
        "question 2\n"
      ],
      "metadata": {
        "id": "EX65rCNouJ7Y"
      }
    },
    {
      "cell_type": "code",
      "source": [
        "length = float(input(\"Enter the length of the rectangle: \"))\n",
        "width = float(input(\"Enter the width of the rectangle: \"))\n",
        "\n",
        "# Formula for the area of the rectangle\n",
        "area = length * width\n",
        "\n",
        "\n",
        "print(\"The area of the rectangle with length\", length, \"and width\", width, \"is:\", area)\n"
      ],
      "metadata": {
        "colab": {
          "base_uri": "https://localhost:8080/"
        },
        "id": "h1eMggMcuBf1",
        "outputId": "45934685-060f-4e15-c231-61c5d2e1a999"
      },
      "execution_count": null,
      "outputs": [
        {
          "output_type": "stream",
          "name": "stdout",
          "text": [
            "Enter the length of the rectangle: 23\n",
            "Enter the width of the rectangle: 34\n",
            "The area of the rectangle with length 23.0 and width 34.0 is: 782.0\n"
          ]
        }
      ]
    },
    {
      "cell_type": "markdown",
      "source": [
        "question 3\n"
      ],
      "metadata": {
        "id": "LwTqjx15KU29"
      }
    },
    {
      "cell_type": "code",
      "source": [
        "\n",
        "def celsius_to_fahrenheit(celsius):\n",
        "    return (celsius * 9/5) + 32\n",
        "\n",
        "\n",
        "celsius = float(input(\"Enter temperature in Celsius: \"))\n",
        "\n",
        "\n",
        "fahrenheit = celsius_to_fahrenheit(celsius)\n",
        "\n",
        "print(\"Temperature in Fahrenheit:\", fahrenheit)\n"
      ],
      "metadata": {
        "colab": {
          "base_uri": "https://localhost:8080/"
        },
        "id": "mKMLOtFYKUSH",
        "outputId": "1ae573ed-42a8-44ef-c51d-9076dfdb707c"
      },
      "execution_count": 2,
      "outputs": [
        {
          "output_type": "stream",
          "name": "stdout",
          "text": [
            "Enter temperature in Celsius: 37\n",
            "Temperature in Fahrenheit: 98.6\n"
          ]
        }
      ]
    },
    {
      "cell_type": "markdown",
      "source": [
        "STRING BASED QUESTIONS"
      ],
      "metadata": {
        "id": "UUanQ9ywK3uf"
      }
    },
    {
      "cell_type": "markdown",
      "source": [
        "qs 1"
      ],
      "metadata": {
        "id": "Wm-HNzhCLCnP"
      }
    },
    {
      "cell_type": "code",
      "source": [
        "input_string = input(\"Enter a string: \")\n",
        "string_length = len(input_string)\n",
        "\n",
        "\n",
        "print(\"Length of the string:\", string_length)\n"
      ],
      "metadata": {
        "id": "qUbjho_luBcZ",
        "colab": {
          "base_uri": "https://localhost:8080/"
        },
        "outputId": "fa12caa4-91ec-4c59-d1f2-cb2566b4f8c5"
      },
      "execution_count": 3,
      "outputs": [
        {
          "output_type": "stream",
          "name": "stdout",
          "text": [
            "Enter a string: docker\n",
            "Length of the string: 6\n"
          ]
        }
      ]
    },
    {
      "cell_type": "markdown",
      "source": [
        "qs2\n"
      ],
      "metadata": {
        "id": "fYZ3VcqeLfg-"
      }
    },
    {
      "cell_type": "code",
      "source": [
        "sentence = input(\"Enter a sentence: \")\n",
        "\n",
        "vowel_count = sum(sentence.count(char) for char in 'aeiouAEIOU')\n",
        "\n",
        "\n",
        "print(\"Number of vowels in the sentence:\", vowel_count)\n"
      ],
      "metadata": {
        "id": "ua82mtgnuBZZ",
        "colab": {
          "base_uri": "https://localhost:8080/"
        },
        "outputId": "7796ee4a-fcff-4f74-f95a-598d86a1de7e"
      },
      "execution_count": 4,
      "outputs": [
        {
          "output_type": "stream",
          "name": "stdout",
          "text": [
            "Enter a sentence: abracadabra\n",
            "Number of vowels in the sentence: 5\n"
          ]
        }
      ]
    },
    {
      "cell_type": "markdown",
      "source": [
        "qs 3"
      ],
      "metadata": {
        "id": "oBzNsaYMPCE5"
      }
    },
    {
      "cell_type": "code",
      "source": [
        "input_string = input(\"enter a string:\")\n",
        "reversed_string = input_string[::-1]\n",
        "print(\"Reversed string:\", reversed_string)"
      ],
      "metadata": {
        "id": "sHGjF61euBWW",
        "colab": {
          "base_uri": "https://localhost:8080/"
        },
        "outputId": "e9b18531-f1c5-4f89-d045-34e2ce298db2"
      },
      "execution_count": 5,
      "outputs": [
        {
          "output_type": "stream",
          "name": "stdout",
          "text": [
            "enter a string:umbrella\n",
            "Reversed string: allerbmu\n"
          ]
        }
      ]
    },
    {
      "cell_type": "markdown",
      "source": [
        "qs 4"
      ],
      "metadata": {
        "id": "a7IcO0GvPppD"
      }
    },
    {
      "cell_type": "code",
      "source": [
        "string = input(\"Enter a string: \")\n",
        "\n",
        "string = string.replace(\" \", \"\").lower()\n",
        "\n",
        "if string == string[::-1]:\n",
        "    print(\"Palindrome!\")\n",
        "else:\n",
        "    print(\"Not a palindrome.\")\n"
      ],
      "metadata": {
        "id": "YBCIZVgAuBTy",
        "colab": {
          "base_uri": "https://localhost:8080/"
        },
        "outputId": "0c93691f-a7c3-4b8b-ef12-ee19ae4dd37b"
      },
      "execution_count": 7,
      "outputs": [
        {
          "output_type": "stream",
          "name": "stdout",
          "text": [
            "Enter a string: unu\n",
            "Palindrome!\n"
          ]
        }
      ]
    },
    {
      "cell_type": "markdown",
      "source": [
        "qs 5"
      ],
      "metadata": {
        "id": "kI3Fik7TRp1q"
      }
    },
    {
      "cell_type": "code",
      "source": [
        "input_string = input(\"Enter a string: \")\n",
        "\n",
        "modified_string = input_string.replace(\" \", \"\")\n",
        "print(\"Modified string without spaces:\", modified_string)\n"
      ],
      "metadata": {
        "id": "Dmn0-ahPuBRL",
        "colab": {
          "base_uri": "https://localhost:8080/"
        },
        "outputId": "7be2d901-5c31-47d0-d72e-70fbe29c2e9e"
      },
      "execution_count": 8,
      "outputs": [
        {
          "output_type": "stream",
          "name": "stdout",
          "text": [
            "Enter a string: life is g o o d\n",
            "Modified string without spaces: lifeisgood\n"
          ]
        }
      ]
    },
    {
      "cell_type": "code",
      "source": [],
      "metadata": {
        "id": "MpmTXicCuBOo"
      },
      "execution_count": null,
      "outputs": []
    },
    {
      "cell_type": "code",
      "source": [],
      "metadata": {
        "id": "Zxm5VStVuBMD"
      },
      "execution_count": null,
      "outputs": []
    },
    {
      "cell_type": "code",
      "source": [],
      "metadata": {
        "id": "pH5zFwC-uBI8"
      },
      "execution_count": null,
      "outputs": []
    },
    {
      "cell_type": "code",
      "source": [],
      "metadata": {
        "id": "1MmgrEyVuBF-"
      },
      "execution_count": null,
      "outputs": []
    },
    {
      "cell_type": "code",
      "source": [],
      "metadata": {
        "id": "gEDz9jI8uBDM"
      },
      "execution_count": null,
      "outputs": []
    }
  ]
}